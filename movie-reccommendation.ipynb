{
 "cells": [
  {
   "cell_type": "code",
   "execution_count": 1,
   "id": "c5f2c5f5",
   "metadata": {
    "_cell_guid": "b1076dfc-b9ad-4769-8c92-a6c4dae69d19",
    "_uuid": "8f2839f25d086af736a60e9eeb907d3b93b6e0e5",
    "execution": {
     "iopub.execute_input": "2022-04-15T08:28:43.255861Z",
     "iopub.status.busy": "2022-04-15T08:28:43.254642Z",
     "iopub.status.idle": "2022-04-15T08:28:43.269785Z",
     "shell.execute_reply": "2022-04-15T08:28:43.269121Z",
     "shell.execute_reply.started": "2022-04-14T21:13:17.58695Z"
    },
    "papermill": {
     "duration": 0.039094,
     "end_time": "2022-04-15T08:28:43.269961",
     "exception": false,
     "start_time": "2022-04-15T08:28:43.230867",
     "status": "completed"
    },
    "tags": []
   },
   "outputs": [
    {
     "name": "stdout",
     "output_type": "stream",
     "text": [
      "/kaggle/input/edsa-movie-recommendation-wilderness/sample_submission.csv\n",
      "/kaggle/input/edsa-movie-recommendation-wilderness/movies.csv\n",
      "/kaggle/input/edsa-movie-recommendation-wilderness/imdb_data.csv\n",
      "/kaggle/input/edsa-movie-recommendation-wilderness/genome_tags.csv\n",
      "/kaggle/input/edsa-movie-recommendation-wilderness/genome_scores.csv\n",
      "/kaggle/input/edsa-movie-recommendation-wilderness/train.csv\n",
      "/kaggle/input/edsa-movie-recommendation-wilderness/test.csv\n",
      "/kaggle/input/edsa-movie-recommendation-wilderness/tags.csv\n",
      "/kaggle/input/edsa-movie-recommendation-wilderness/links.csv\n"
     ]
    }
   ],
   "source": [
    "# This Python 3 environment comes with many helpful analytics libraries installed\n",
    "# It is defined by the kaggle/python Docker image: https://github.com/kaggle/docker-python\n",
    "# For example, here's several helpful packages to load\n",
    "\n",
    "import numpy as np # linear algebra\n",
    "import pandas as pd # data processing, CSV file I/O (e.g. pd.read_csv)\n",
    "\n",
    "# Input data files are available in the read-only \"../input/\" directory\n",
    "# For example, running this (by clicking run or pressing Shift+Enter) will list all files under the input directory\n",
    "\n",
    "import os\n",
    "for dirname, _, filenames in os.walk('/kaggle/input'):\n",
    "    for filename in filenames:\n",
    "        print(os.path.join(dirname, filename))\n",
    "\n",
    "# You can write up to 20GB to the current directory (/kaggle/working/) that gets preserved as output when you create a version using \"Save & Run All\" \n",
    "# You can also write temporary files to /kaggle/temp/, but they won't be saved outside of the current session"
   ]
  },
  {
   "cell_type": "code",
   "execution_count": 2,
   "id": "13dc0697",
   "metadata": {
    "execution": {
     "iopub.execute_input": "2022-04-15T08:28:43.319356Z",
     "iopub.status.busy": "2022-04-15T08:28:43.318714Z",
     "iopub.status.idle": "2022-04-15T08:28:44.439776Z",
     "shell.execute_reply": "2022-04-15T08:28:44.440246Z",
     "shell.execute_reply.started": "2022-04-14T21:13:17.625548Z"
    },
    "papermill": {
     "duration": 1.148525,
     "end_time": "2022-04-15T08:28:44.440437",
     "exception": false,
     "start_time": "2022-04-15T08:28:43.291912",
     "status": "completed"
    },
    "tags": []
   },
   "outputs": [],
   "source": [
    "import pandas as pd\n",
    "import numpy as np\n",
    "import matplotlib.pyplot as plt\n",
    "%matplotlib inline\n",
    "import seaborn as sns"
   ]
  },
  {
   "cell_type": "code",
   "execution_count": 3,
   "id": "9d116dc7",
   "metadata": {
    "execution": {
     "iopub.execute_input": "2022-04-15T08:28:44.482681Z",
     "iopub.status.busy": "2022-04-15T08:28:44.481925Z",
     "iopub.status.idle": "2022-04-15T08:28:52.564321Z",
     "shell.execute_reply": "2022-04-15T08:28:52.563798Z",
     "shell.execute_reply.started": "2022-04-14T21:13:18.743543Z"
    },
    "papermill": {
     "duration": 8.104543,
     "end_time": "2022-04-15T08:28:52.564465",
     "exception": false,
     "start_time": "2022-04-15T08:28:44.459922",
     "status": "completed"
    },
    "tags": []
   },
   "outputs": [
    {
     "data": {
      "text/html": [
       "<div>\n",
       "<style scoped>\n",
       "    .dataframe tbody tr th:only-of-type {\n",
       "        vertical-align: middle;\n",
       "    }\n",
       "\n",
       "    .dataframe tbody tr th {\n",
       "        vertical-align: top;\n",
       "    }\n",
       "\n",
       "    .dataframe thead th {\n",
       "        text-align: right;\n",
       "    }\n",
       "</style>\n",
       "<table border=\"1\" class=\"dataframe\">\n",
       "  <thead>\n",
       "    <tr style=\"text-align: right;\">\n",
       "      <th></th>\n",
       "      <th>userId</th>\n",
       "      <th>movieId</th>\n",
       "      <th>rating</th>\n",
       "      <th>timestamp</th>\n",
       "    </tr>\n",
       "  </thead>\n",
       "  <tbody>\n",
       "    <tr>\n",
       "      <th>0</th>\n",
       "      <td>5163</td>\n",
       "      <td>57669</td>\n",
       "      <td>4.0</td>\n",
       "      <td>1518349992</td>\n",
       "    </tr>\n",
       "    <tr>\n",
       "      <th>1</th>\n",
       "      <td>106343</td>\n",
       "      <td>5</td>\n",
       "      <td>4.5</td>\n",
       "      <td>1206238739</td>\n",
       "    </tr>\n",
       "    <tr>\n",
       "      <th>2</th>\n",
       "      <td>146790</td>\n",
       "      <td>5459</td>\n",
       "      <td>5.0</td>\n",
       "      <td>1076215539</td>\n",
       "    </tr>\n",
       "    <tr>\n",
       "      <th>3</th>\n",
       "      <td>106362</td>\n",
       "      <td>32296</td>\n",
       "      <td>2.0</td>\n",
       "      <td>1423042565</td>\n",
       "    </tr>\n",
       "    <tr>\n",
       "      <th>4</th>\n",
       "      <td>9041</td>\n",
       "      <td>366</td>\n",
       "      <td>3.0</td>\n",
       "      <td>833375837</td>\n",
       "    </tr>\n",
       "  </tbody>\n",
       "</table>\n",
       "</div>"
      ],
      "text/plain": [
       "   userId  movieId  rating   timestamp\n",
       "0    5163    57669     4.0  1518349992\n",
       "1  106343        5     4.5  1206238739\n",
       "2  146790     5459     5.0  1076215539\n",
       "3  106362    32296     2.0  1423042565\n",
       "4    9041      366     3.0   833375837"
      ]
     },
     "execution_count": 3,
     "metadata": {},
     "output_type": "execute_result"
    }
   ],
   "source": [
    "rating = pd.read_csv('../input/edsa-movie-recommendation-wilderness/train.csv')\n",
    "rating.head()"
   ]
  },
  {
   "cell_type": "code",
   "execution_count": 4,
   "id": "aa17211b",
   "metadata": {
    "execution": {
     "iopub.execute_input": "2022-04-15T08:28:52.610124Z",
     "iopub.status.busy": "2022-04-15T08:28:52.609353Z",
     "iopub.status.idle": "2022-04-15T08:28:52.744126Z",
     "shell.execute_reply": "2022-04-15T08:28:52.743422Z",
     "shell.execute_reply.started": "2022-04-14T21:13:26.103357Z"
    },
    "papermill": {
     "duration": 0.159468,
     "end_time": "2022-04-15T08:28:52.744265",
     "exception": false,
     "start_time": "2022-04-15T08:28:52.584797",
     "status": "completed"
    },
    "tags": []
   },
   "outputs": [
    {
     "data": {
      "text/html": [
       "<div>\n",
       "<style scoped>\n",
       "    .dataframe tbody tr th:only-of-type {\n",
       "        vertical-align: middle;\n",
       "    }\n",
       "\n",
       "    .dataframe tbody tr th {\n",
       "        vertical-align: top;\n",
       "    }\n",
       "\n",
       "    .dataframe thead th {\n",
       "        text-align: right;\n",
       "    }\n",
       "</style>\n",
       "<table border=\"1\" class=\"dataframe\">\n",
       "  <thead>\n",
       "    <tr style=\"text-align: right;\">\n",
       "      <th></th>\n",
       "      <th>movieId</th>\n",
       "      <th>title</th>\n",
       "      <th>genres</th>\n",
       "    </tr>\n",
       "  </thead>\n",
       "  <tbody>\n",
       "    <tr>\n",
       "      <th>0</th>\n",
       "      <td>1</td>\n",
       "      <td>Toy Story (1995)</td>\n",
       "      <td>Adventure|Animation|Children|Comedy|Fantasy</td>\n",
       "    </tr>\n",
       "    <tr>\n",
       "      <th>1</th>\n",
       "      <td>2</td>\n",
       "      <td>Jumanji (1995)</td>\n",
       "      <td>Adventure|Children|Fantasy</td>\n",
       "    </tr>\n",
       "    <tr>\n",
       "      <th>2</th>\n",
       "      <td>3</td>\n",
       "      <td>Grumpier Old Men (1995)</td>\n",
       "      <td>Comedy|Romance</td>\n",
       "    </tr>\n",
       "    <tr>\n",
       "      <th>3</th>\n",
       "      <td>4</td>\n",
       "      <td>Waiting to Exhale (1995)</td>\n",
       "      <td>Comedy|Drama|Romance</td>\n",
       "    </tr>\n",
       "    <tr>\n",
       "      <th>4</th>\n",
       "      <td>5</td>\n",
       "      <td>Father of the Bride Part II (1995)</td>\n",
       "      <td>Comedy</td>\n",
       "    </tr>\n",
       "  </tbody>\n",
       "</table>\n",
       "</div>"
      ],
      "text/plain": [
       "   movieId                               title  \\\n",
       "0        1                    Toy Story (1995)   \n",
       "1        2                      Jumanji (1995)   \n",
       "2        3             Grumpier Old Men (1995)   \n",
       "3        4            Waiting to Exhale (1995)   \n",
       "4        5  Father of the Bride Part II (1995)   \n",
       "\n",
       "                                        genres  \n",
       "0  Adventure|Animation|Children|Comedy|Fantasy  \n",
       "1                   Adventure|Children|Fantasy  \n",
       "2                               Comedy|Romance  \n",
       "3                         Comedy|Drama|Romance  \n",
       "4                                       Comedy  "
      ]
     },
     "execution_count": 4,
     "metadata": {},
     "output_type": "execute_result"
    }
   ],
   "source": [
    "movies = pd.read_csv('../input/edsa-movie-recommendation-wilderness/movies.csv')\n",
    "movies.head()"
   ]
  },
  {
   "cell_type": "code",
   "execution_count": 5,
   "id": "44057851",
   "metadata": {
    "execution": {
     "iopub.execute_input": "2022-04-15T08:28:52.798427Z",
     "iopub.status.busy": "2022-04-15T08:28:52.797522Z",
     "iopub.status.idle": "2022-04-15T08:28:55.103248Z",
     "shell.execute_reply": "2022-04-15T08:28:55.102675Z",
     "shell.execute_reply.started": "2022-04-14T21:13:26.247563Z"
    },
    "papermill": {
     "duration": 2.337694,
     "end_time": "2022-04-15T08:28:55.103405",
     "exception": false,
     "start_time": "2022-04-15T08:28:52.765711",
     "status": "completed"
    },
    "tags": []
   },
   "outputs": [],
   "source": [
    "# merging both the datasets on 'movieId' column\n",
    "movie_rating = pd.merge(left=rating,right=movies,on='movieId')"
   ]
  },
  {
   "cell_type": "code",
   "execution_count": 6,
   "id": "859192f1",
   "metadata": {
    "execution": {
     "iopub.execute_input": "2022-04-15T08:28:55.148022Z",
     "iopub.status.busy": "2022-04-15T08:28:55.147031Z",
     "iopub.status.idle": "2022-04-15T08:28:55.158703Z",
     "shell.execute_reply": "2022-04-15T08:28:55.159190Z",
     "shell.execute_reply.started": "2022-04-14T21:13:28.54311Z"
    },
    "papermill": {
     "duration": 0.035452,
     "end_time": "2022-04-15T08:28:55.159365",
     "exception": false,
     "start_time": "2022-04-15T08:28:55.123913",
     "status": "completed"
    },
    "tags": []
   },
   "outputs": [
    {
     "data": {
      "text/html": [
       "<div>\n",
       "<style scoped>\n",
       "    .dataframe tbody tr th:only-of-type {\n",
       "        vertical-align: middle;\n",
       "    }\n",
       "\n",
       "    .dataframe tbody tr th {\n",
       "        vertical-align: top;\n",
       "    }\n",
       "\n",
       "    .dataframe thead th {\n",
       "        text-align: right;\n",
       "    }\n",
       "</style>\n",
       "<table border=\"1\" class=\"dataframe\">\n",
       "  <thead>\n",
       "    <tr style=\"text-align: right;\">\n",
       "      <th></th>\n",
       "      <th>userId</th>\n",
       "      <th>movieId</th>\n",
       "      <th>rating</th>\n",
       "      <th>timestamp</th>\n",
       "      <th>title</th>\n",
       "      <th>genres</th>\n",
       "    </tr>\n",
       "  </thead>\n",
       "  <tbody>\n",
       "    <tr>\n",
       "      <th>0</th>\n",
       "      <td>5163</td>\n",
       "      <td>57669</td>\n",
       "      <td>4.0</td>\n",
       "      <td>1518349992</td>\n",
       "      <td>In Bruges (2008)</td>\n",
       "      <td>Comedy|Crime|Drama|Thriller</td>\n",
       "    </tr>\n",
       "    <tr>\n",
       "      <th>1</th>\n",
       "      <td>87388</td>\n",
       "      <td>57669</td>\n",
       "      <td>3.5</td>\n",
       "      <td>1237455297</td>\n",
       "      <td>In Bruges (2008)</td>\n",
       "      <td>Comedy|Crime|Drama|Thriller</td>\n",
       "    </tr>\n",
       "    <tr>\n",
       "      <th>2</th>\n",
       "      <td>137050</td>\n",
       "      <td>57669</td>\n",
       "      <td>4.0</td>\n",
       "      <td>1425631854</td>\n",
       "      <td>In Bruges (2008)</td>\n",
       "      <td>Comedy|Crime|Drama|Thriller</td>\n",
       "    </tr>\n",
       "    <tr>\n",
       "      <th>3</th>\n",
       "      <td>120490</td>\n",
       "      <td>57669</td>\n",
       "      <td>4.5</td>\n",
       "      <td>1408228517</td>\n",
       "      <td>In Bruges (2008)</td>\n",
       "      <td>Comedy|Crime|Drama|Thriller</td>\n",
       "    </tr>\n",
       "    <tr>\n",
       "      <th>4</th>\n",
       "      <td>50616</td>\n",
       "      <td>57669</td>\n",
       "      <td>4.5</td>\n",
       "      <td>1446941640</td>\n",
       "      <td>In Bruges (2008)</td>\n",
       "      <td>Comedy|Crime|Drama|Thriller</td>\n",
       "    </tr>\n",
       "  </tbody>\n",
       "</table>\n",
       "</div>"
      ],
      "text/plain": [
       "   userId  movieId  rating   timestamp             title  \\\n",
       "0    5163    57669     4.0  1518349992  In Bruges (2008)   \n",
       "1   87388    57669     3.5  1237455297  In Bruges (2008)   \n",
       "2  137050    57669     4.0  1425631854  In Bruges (2008)   \n",
       "3  120490    57669     4.5  1408228517  In Bruges (2008)   \n",
       "4   50616    57669     4.5  1446941640  In Bruges (2008)   \n",
       "\n",
       "                        genres  \n",
       "0  Comedy|Crime|Drama|Thriller  \n",
       "1  Comedy|Crime|Drama|Thriller  \n",
       "2  Comedy|Crime|Drama|Thriller  \n",
       "3  Comedy|Crime|Drama|Thriller  \n",
       "4  Comedy|Crime|Drama|Thriller  "
      ]
     },
     "execution_count": 6,
     "metadata": {},
     "output_type": "execute_result"
    }
   ],
   "source": [
    "movie_rating.head()"
   ]
  },
  {
   "cell_type": "code",
   "execution_count": 7,
   "id": "c95b60e1",
   "metadata": {
    "execution": {
     "iopub.execute_input": "2022-04-15T08:28:55.205621Z",
     "iopub.status.busy": "2022-04-15T08:28:55.204628Z",
     "iopub.status.idle": "2022-04-15T08:28:55.756558Z",
     "shell.execute_reply": "2022-04-15T08:28:55.755917Z",
     "shell.execute_reply.started": "2022-04-14T21:13:28.556919Z"
    },
    "papermill": {
     "duration": 0.576378,
     "end_time": "2022-04-15T08:28:55.756707",
     "exception": false,
     "start_time": "2022-04-15T08:28:55.180329",
     "status": "completed"
    },
    "tags": []
   },
   "outputs": [
    {
     "data": {
      "text/html": [
       "<div>\n",
       "<style scoped>\n",
       "    .dataframe tbody tr th:only-of-type {\n",
       "        vertical-align: middle;\n",
       "    }\n",
       "\n",
       "    .dataframe tbody tr th {\n",
       "        vertical-align: top;\n",
       "    }\n",
       "\n",
       "    .dataframe thead th {\n",
       "        text-align: right;\n",
       "    }\n",
       "</style>\n",
       "<table border=\"1\" class=\"dataframe\">\n",
       "  <thead>\n",
       "    <tr style=\"text-align: right;\">\n",
       "      <th></th>\n",
       "      <th>userId</th>\n",
       "      <th>movieId</th>\n",
       "      <th>title</th>\n",
       "      <th>genres</th>\n",
       "      <th>rating</th>\n",
       "      <th>timestamp</th>\n",
       "    </tr>\n",
       "  </thead>\n",
       "  <tbody>\n",
       "    <tr>\n",
       "      <th>0</th>\n",
       "      <td>5163</td>\n",
       "      <td>57669</td>\n",
       "      <td>In Bruges (2008)</td>\n",
       "      <td>Comedy|Crime|Drama|Thriller</td>\n",
       "      <td>4.0</td>\n",
       "      <td>1518349992</td>\n",
       "    </tr>\n",
       "    <tr>\n",
       "      <th>1</th>\n",
       "      <td>87388</td>\n",
       "      <td>57669</td>\n",
       "      <td>In Bruges (2008)</td>\n",
       "      <td>Comedy|Crime|Drama|Thriller</td>\n",
       "      <td>3.5</td>\n",
       "      <td>1237455297</td>\n",
       "    </tr>\n",
       "    <tr>\n",
       "      <th>2</th>\n",
       "      <td>137050</td>\n",
       "      <td>57669</td>\n",
       "      <td>In Bruges (2008)</td>\n",
       "      <td>Comedy|Crime|Drama|Thriller</td>\n",
       "      <td>4.0</td>\n",
       "      <td>1425631854</td>\n",
       "    </tr>\n",
       "    <tr>\n",
       "      <th>3</th>\n",
       "      <td>120490</td>\n",
       "      <td>57669</td>\n",
       "      <td>In Bruges (2008)</td>\n",
       "      <td>Comedy|Crime|Drama|Thriller</td>\n",
       "      <td>4.5</td>\n",
       "      <td>1408228517</td>\n",
       "    </tr>\n",
       "    <tr>\n",
       "      <th>4</th>\n",
       "      <td>50616</td>\n",
       "      <td>57669</td>\n",
       "      <td>In Bruges (2008)</td>\n",
       "      <td>Comedy|Crime|Drama|Thriller</td>\n",
       "      <td>4.5</td>\n",
       "      <td>1446941640</td>\n",
       "    </tr>\n",
       "  </tbody>\n",
       "</table>\n",
       "</div>"
      ],
      "text/plain": [
       "   userId  movieId             title                       genres  rating  \\\n",
       "0    5163    57669  In Bruges (2008)  Comedy|Crime|Drama|Thriller     4.0   \n",
       "1   87388    57669  In Bruges (2008)  Comedy|Crime|Drama|Thriller     3.5   \n",
       "2  137050    57669  In Bruges (2008)  Comedy|Crime|Drama|Thriller     4.0   \n",
       "3  120490    57669  In Bruges (2008)  Comedy|Crime|Drama|Thriller     4.5   \n",
       "4   50616    57669  In Bruges (2008)  Comedy|Crime|Drama|Thriller     4.5   \n",
       "\n",
       "    timestamp  \n",
       "0  1518349992  \n",
       "1  1237455297  \n",
       "2  1425631854  \n",
       "3  1408228517  \n",
       "4  1446941640  "
      ]
     },
     "execution_count": 7,
     "metadata": {},
     "output_type": "execute_result"
    }
   ],
   "source": [
    "movie_rating = movie_rating[['userId', 'movieId', 'title', 'genres', 'rating', 'timestamp']]\n",
    "movie_rating.head()"
   ]
  },
  {
   "cell_type": "code",
   "execution_count": 8,
   "id": "f17d6092",
   "metadata": {
    "execution": {
     "iopub.execute_input": "2022-04-15T08:28:55.810823Z",
     "iopub.status.busy": "2022-04-15T08:28:55.808918Z",
     "iopub.status.idle": "2022-04-15T08:28:55.826591Z",
     "shell.execute_reply": "2022-04-15T08:28:55.827084Z",
     "shell.execute_reply.started": "2022-04-14T21:13:29.097509Z"
    },
    "papermill": {
     "duration": 0.047898,
     "end_time": "2022-04-15T08:28:55.827261",
     "exception": false,
     "start_time": "2022-04-15T08:28:55.779363",
     "status": "completed"
    },
    "tags": []
   },
   "outputs": [
    {
     "name": "stdout",
     "output_type": "stream",
     "text": [
      "<class 'pandas.core.frame.DataFrame'>\n",
      "Int64Index: 10000038 entries, 0 to 10000037\n",
      "Data columns (total 6 columns):\n",
      " #   Column     Dtype  \n",
      "---  ------     -----  \n",
      " 0   userId     int64  \n",
      " 1   movieId    int64  \n",
      " 2   title      object \n",
      " 3   genres     object \n",
      " 4   rating     float64\n",
      " 5   timestamp  int64  \n",
      "dtypes: float64(1), int64(3), object(2)\n",
      "memory usage: 534.1+ MB\n"
     ]
    }
   ],
   "source": [
    "movie_rating.info()"
   ]
  },
  {
   "cell_type": "code",
   "execution_count": 9,
   "id": "17904dc9",
   "metadata": {
    "execution": {
     "iopub.execute_input": "2022-04-15T08:28:55.879134Z",
     "iopub.status.busy": "2022-04-15T08:28:55.878135Z",
     "iopub.status.idle": "2022-04-15T08:28:58.073397Z",
     "shell.execute_reply": "2022-04-15T08:28:58.073918Z",
     "shell.execute_reply.started": "2022-04-14T21:13:29.115337Z"
    },
    "papermill": {
     "duration": 2.221507,
     "end_time": "2022-04-15T08:28:58.074115",
     "exception": false,
     "start_time": "2022-04-15T08:28:55.852608",
     "status": "completed"
    },
    "tags": []
   },
   "outputs": [
    {
     "data": {
      "text/plain": [
       "userId       0\n",
       "movieId      0\n",
       "title        0\n",
       "genres       0\n",
       "rating       0\n",
       "timestamp    0\n",
       "dtype: int64"
      ]
     },
     "execution_count": 9,
     "metadata": {},
     "output_type": "execute_result"
    }
   ],
   "source": [
    "movie_rating.isnull().sum()"
   ]
  },
  {
   "cell_type": "code",
   "execution_count": 10,
   "id": "6a32b54e",
   "metadata": {
    "execution": {
     "iopub.execute_input": "2022-04-15T08:28:58.122722Z",
     "iopub.status.busy": "2022-04-15T08:28:58.121716Z",
     "iopub.status.idle": "2022-04-15T08:28:59.419994Z",
     "shell.execute_reply": "2022-04-15T08:28:59.420583Z",
     "shell.execute_reply.started": "2022-04-14T21:13:31.297948Z"
    },
    "papermill": {
     "duration": 1.32428,
     "end_time": "2022-04-15T08:28:59.420827",
     "exception": false,
     "start_time": "2022-04-15T08:28:58.096547",
     "status": "completed"
    },
    "tags": []
   },
   "outputs": [],
   "source": [
    "# grouping the movies based on average rating\n",
    "average_rating_movies = movie_rating.groupby('title')['rating'].mean().sort_values(ascending=False)"
   ]
  },
  {
   "cell_type": "code",
   "execution_count": 11,
   "id": "8962650d",
   "metadata": {
    "execution": {
     "iopub.execute_input": "2022-04-15T08:28:59.470921Z",
     "iopub.status.busy": "2022-04-15T08:28:59.469972Z",
     "iopub.status.idle": "2022-04-15T08:28:59.477330Z",
     "shell.execute_reply": "2022-04-15T08:28:59.477922Z",
     "shell.execute_reply.started": "2022-04-14T21:13:32.595694Z"
    },
    "papermill": {
     "duration": 0.034879,
     "end_time": "2022-04-15T08:28:59.478096",
     "exception": false,
     "start_time": "2022-04-15T08:28:59.443217",
     "status": "completed"
    },
    "tags": []
   },
   "outputs": [
    {
     "data": {
      "text/plain": [
       "title\n",
       "Which Way Home (2009)               5.0\n",
       "Kaakha Kaakha (2003)                5.0\n",
       "Not Quite Human II (1989)           5.0\n",
       "Selling Isobel (2018)               5.0\n",
       "Sehar (2005)                        5.0\n",
       "The Enchanted Sedan Chair (1905)    5.0\n",
       "K.G.F: Chapter 1 (2018)             5.0\n",
       "Hard Cash (2002)                    5.0\n",
       "Everyone's Going to Die (2013)      5.0\n",
       "Anything for Love (2016)            5.0\n",
       "Name: rating, dtype: float64"
      ]
     },
     "execution_count": 11,
     "metadata": {},
     "output_type": "execute_result"
    }
   ],
   "source": [
    "average_rating_movies.head(10)"
   ]
  },
  {
   "cell_type": "code",
   "execution_count": 12,
   "id": "3dcc46f5",
   "metadata": {
    "execution": {
     "iopub.execute_input": "2022-04-15T08:28:59.527507Z",
     "iopub.status.busy": "2022-04-15T08:28:59.526559Z",
     "iopub.status.idle": "2022-04-15T08:28:59.753515Z",
     "shell.execute_reply": "2022-04-15T08:28:59.752968Z",
     "shell.execute_reply.started": "2022-04-14T21:13:32.605267Z"
    },
    "papermill": {
     "duration": 0.252834,
     "end_time": "2022-04-15T08:28:59.753673",
     "exception": false,
     "start_time": "2022-04-15T08:28:59.500839",
     "status": "completed"
    },
    "tags": []
   },
   "outputs": [
    {
     "data": {
      "image/png": "[encoded data removed]",
      "text/plain": [
       "<Figure size 432x288 with 1 Axes>"
      ]
     },
     "metadata": {
      "needs_background": "light"
     },
     "output_type": "display_data"
    }
   ],
   "source": [
    "average_rating_movies.hist(bins=20)\n",
    "plt.show()"
   ]
  },
  {
   "cell_type": "code",
   "execution_count": 13,
   "id": "6883fc31",
   "metadata": {
    "execution": {
     "iopub.execute_input": "2022-04-15T08:29:00.394942Z",
     "iopub.status.busy": "2022-04-15T08:28:59.956974Z",
     "iopub.status.idle": "2022-04-15T08:29:01.103251Z",
     "shell.execute_reply": "2022-04-15T08:29:01.102566Z",
     "shell.execute_reply.started": "2022-04-14T21:13:32.879398Z"
    },
    "papermill": {
     "duration": 1.325719,
     "end_time": "2022-04-15T08:29:01.103409",
     "exception": false,
     "start_time": "2022-04-15T08:28:59.777690",
     "status": "completed"
    },
    "tags": []
   },
   "outputs": [],
   "source": [
    "# grouping the movies based on count of users who rated the movies\n",
    "count_userid = movie_rating.groupby('title')['userId'].count().sort_values(ascending=False)"
   ]
  },
  {
   "cell_type": "code",
   "execution_count": 14,
   "id": "9644d124",
   "metadata": {
    "execution": {
     "iopub.execute_input": "2022-04-15T08:29:01.169380Z",
     "iopub.status.busy": "2022-04-15T08:29:01.168252Z",
     "iopub.status.idle": "2022-04-15T08:29:01.297151Z",
     "shell.execute_reply": "2022-04-15T08:29:01.297703Z",
     "shell.execute_reply.started": "2022-04-14T21:13:34.256848Z"
    },
    "papermill": {
     "duration": 0.170112,
     "end_time": "2022-04-15T08:29:01.297887",
     "exception": false,
     "start_time": "2022-04-15T08:29:01.127775",
     "status": "completed"
    },
    "tags": []
   },
   "outputs": [
    {
     "data": {
      "image/png": "[encoded data removed]",
      "text/plain": [
       "<Figure size 432x288 with 1 Axes>"
      ]
     },
     "metadata": {
      "needs_background": "light"
     },
     "output_type": "display_data"
    }
   ],
   "source": [
    "count_userid.hist()\n",
    "plt.show()"
   ]
  },
  {
   "cell_type": "code",
   "execution_count": 15,
   "id": "25fad740",
   "metadata": {
    "execution": {
     "iopub.execute_input": "2022-04-15T08:29:01.571840Z",
     "iopub.status.busy": "2022-04-15T08:29:01.571118Z",
     "iopub.status.idle": "2022-04-15T08:29:02.867001Z",
     "shell.execute_reply": "2022-04-15T08:29:02.866345Z",
     "shell.execute_reply.started": "2022-04-14T21:15:19.676422Z"
    },
    "papermill": {
     "duration": 1.544052,
     "end_time": "2022-04-15T08:29:02.867152",
     "exception": false,
     "start_time": "2022-04-15T08:29:01.323100",
     "status": "completed"
    },
    "tags": []
   },
   "outputs": [],
   "source": [
    "# grouping the movie_rating based on count on userId and mean on rating\n",
    "userid_rating = movie_rating.groupby('title')[['userId','rating']].agg({'userId':'count','rating':'mean'}).round(2).sort_values(by='userId',ascending=False)"
   ]
  },
  {
   "cell_type": "code",
   "execution_count": 16,
   "id": "738783eb",
   "metadata": {
    "execution": {
     "iopub.execute_input": "2022-04-15T08:29:02.922664Z",
     "iopub.status.busy": "2022-04-15T08:29:02.921632Z",
     "iopub.status.idle": "2022-04-15T08:29:02.929169Z",
     "shell.execute_reply": "2022-04-15T08:29:02.929729Z",
     "shell.execute_reply.started": "2022-04-14T21:16:06.087091Z"
    },
    "papermill": {
     "duration": 0.038118,
     "end_time": "2022-04-15T08:29:02.929905",
     "exception": false,
     "start_time": "2022-04-15T08:29:02.891787",
     "status": "completed"
    },
    "tags": []
   },
   "outputs": [
    {
     "data": {
      "text/html": [
       "<div>\n",
       "<style scoped>\n",
       "    .dataframe tbody tr th:only-of-type {\n",
       "        vertical-align: middle;\n",
       "    }\n",
       "\n",
       "    .dataframe tbody tr th {\n",
       "        vertical-align: top;\n",
       "    }\n",
       "\n",
       "    .dataframe thead th {\n",
       "        text-align: right;\n",
       "    }\n",
       "</style>\n",
       "<table border=\"1\" class=\"dataframe\">\n",
       "  <thead>\n",
       "    <tr style=\"text-align: right;\">\n",
       "      <th></th>\n",
       "      <th>userId</th>\n",
       "      <th>rating</th>\n",
       "    </tr>\n",
       "    <tr>\n",
       "      <th>title</th>\n",
       "      <th></th>\n",
       "      <th></th>\n",
       "    </tr>\n",
       "  </thead>\n",
       "  <tbody>\n",
       "    <tr>\n",
       "      <th>Shawshank Redemption, The (1994)</th>\n",
       "      <td>32831</td>\n",
       "      <td>4.42</td>\n",
       "    </tr>\n",
       "    <tr>\n",
       "      <th>Forrest Gump (1994)</th>\n",
       "      <td>32383</td>\n",
       "      <td>4.05</td>\n",
       "    </tr>\n",
       "    <tr>\n",
       "      <th>Pulp Fiction (1994)</th>\n",
       "      <td>31697</td>\n",
       "      <td>4.20</td>\n",
       "    </tr>\n",
       "    <tr>\n",
       "      <th>Silence of the Lambs, The (1991)</th>\n",
       "      <td>29444</td>\n",
       "      <td>4.14</td>\n",
       "    </tr>\n",
       "    <tr>\n",
       "      <th>Matrix, The (1999)</th>\n",
       "      <td>29014</td>\n",
       "      <td>4.15</td>\n",
       "    </tr>\n",
       "  </tbody>\n",
       "</table>\n",
       "</div>"
      ],
      "text/plain": [
       "                                  userId  rating\n",
       "title                                           \n",
       "Shawshank Redemption, The (1994)   32831    4.42\n",
       "Forrest Gump (1994)                32383    4.05\n",
       "Pulp Fiction (1994)                31697    4.20\n",
       "Silence of the Lambs, The (1991)   29444    4.14\n",
       "Matrix, The (1999)                 29014    4.15"
      ]
     },
     "execution_count": 16,
     "metadata": {},
     "output_type": "execute_result"
    }
   ],
   "source": [
    "userid_rating.head()"
   ]
  },
  {
   "cell_type": "code",
   "execution_count": 17,
   "id": "aad734f0",
   "metadata": {
    "execution": {
     "iopub.execute_input": "2022-04-15T08:29:02.989164Z",
     "iopub.status.busy": "2022-04-15T08:29:02.988418Z",
     "iopub.status.idle": "2022-04-15T08:29:26.404232Z",
     "shell.execute_reply": "2022-04-15T08:29:26.404926Z",
     "shell.execute_reply.started": "2022-04-14T22:02:39.376581Z"
    },
    "papermill": {
     "duration": 23.449931,
     "end_time": "2022-04-15T08:29:26.405100",
     "exception": false,
     "start_time": "2022-04-15T08:29:02.955169",
     "status": "completed"
    },
    "tags": []
   },
   "outputs": [
    {
     "name": "stderr",
     "output_type": "stream",
     "text": [
      "100%|██████████| 200/200 [00:23<00:00,  8.55it/s]\n"
     ]
    }
   ],
   "source": [
    "import pandas as pd \n",
    "from tqdm import tqdm\n",
    "\n",
    "chunk_size = 50000\n",
    "chunks = [x for x in range(0, movie_rating.shape[0], chunk_size)]\n",
    "\n",
    "\n",
    "pivot_df = pd.DataFrame()\n",
    "\n",
    "for i in tqdm(range(0, len(chunks) - 1)):\n",
    "    chunk_df = movie_rating.iloc[ chunks[i]:chunks[i + 1] - 1]\n",
    "    interactions = (chunk_df.groupby([\"userId\", \"title\"])[\"rating\"]\n",
    "      .sum()\n",
    "      .unstack()\n",
    "      .reset_index()\n",
    "      .fillna(0)\n",
    "      .set_index(\"userId\")\n",
    "    )\n",
    "#     print (interactions.shape)\n",
    "    movie_rating_pivot = pivot_df.append(interactions, sort=False) "
   ]
  },
  {
   "cell_type": "code",
   "execution_count": 18,
   "id": "00d128d9",
   "metadata": {
    "execution": {
     "iopub.execute_input": "2022-04-15T08:29:26.555798Z",
     "iopub.status.busy": "2022-04-15T08:29:26.554756Z",
     "iopub.status.idle": "2022-04-15T08:29:29.898076Z",
     "shell.execute_reply": "2022-04-15T08:29:29.897407Z",
     "shell.execute_reply.started": "2022-04-14T22:03:25.556864Z"
    },
    "papermill": {
     "duration": 3.42215,
     "end_time": "2022-04-15T08:29:29.898237",
     "exception": false,
     "start_time": "2022-04-15T08:29:26.476087",
     "status": "completed"
    },
    "tags": []
   },
   "outputs": [],
   "source": [
    "from scipy import sparse\n",
    "import numpy as np\n",
    "sparse_matrix = sparse.csr_matrix(movie_rating_pivot.to_numpy())"
   ]
  }
 ],
 "metadata": {
  "kernelspec": {
   "display_name": "Python 3",
   "language": "python",
   "name": "python3"
  },
  "language_info": {
   "codemirror_mode": {
    "name": "ipython",
    "version": 3
   },
   "file_extension": ".py",
   "mimetype": "text/x-python",
   "name": "python",
   "nbconvert_exporter": "python",
   "pygments_lexer": "ipython3",
   "version": "3.7.12"
  },
  "papermill": {
   "default_parameters": {},
   "duration": 57.733909,
   "end_time": "2022-04-15T08:29:31.084053",
   "environment_variables": {},
   "exception": null,
   "input_path": "__notebook__.ipynb",
   "output_path": "__notebook__.ipynb",
   "parameters": {},
   "start_time": "2022-04-15T08:28:33.350144",
   "version": "2.3.3"
  }
 },
 "nbformat": 4,
 "nbformat_minor": 5
}
